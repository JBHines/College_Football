{
 "cells": [
  {
   "cell_type": "code",
   "execution_count": 2,
   "id": "170ba744",
   "metadata": {},
   "outputs": [],
   "source": [
    "import pandas as pd\n",
    "import sqlite3\n",
    "import os"
   ]
  },
  {
   "cell_type": "code",
   "execution_count": 15,
   "id": "8dadf689",
   "metadata": {},
   "outputs": [
    {
     "name": "stdout",
     "output_type": "stream",
     "text": [
      "['CollegeAthleteId', 'NflAthleteId', 'CollegeId', 'CollegeTeam', 'CollegeConference', 'NflTeamId', 'NflTeam', 'Year', 'Overall', 'Round', 'Pick', 'Name', 'Position', 'Height', 'Weight', 'PreDraftRanking', 'PreDraftPositionRanking', 'PreDraftGrade', 'HometownInfo City', 'HometownInfo State', 'HometownInfo Country', 'HometownInfo Latitude', 'HometownInfo Longitude', 'HometownInfo CountyFips']\n"
     ]
    }
   ],
   "source": [
    "#Checking column names and looking for join potential\n",
    "df_NFL_Draft_2025 = pd.read_csv('NFL_Draft_2025.csv')\n",
    "print(df.columns.tolist())\n"
   ]
  },
  {
   "cell_type": "code",
   "execution_count": 14,
   "id": "c1bb2ff4",
   "metadata": {},
   "outputs": [
    {
     "name": "stdout",
     "output_type": "stream",
     "text": [
      "Index(['Id', 'AthleteId', 'RecruitType', 'Year', 'Ranking', 'Name', 'School',\n",
      "       'CommittedTo', 'Position', 'Height', 'Weight', 'Stars', 'Rating',\n",
      "       'City', 'StateProvince', 'Country', 'HometownInfo Latitude',\n",
      "       'HometownInfo Longitude', 'HometownInfo FipsCode'],\n",
      "      dtype='object')\n"
     ]
    }
   ],
   "source": [
    "# Checking column names and looking for join potential\n",
    "df_Recruiting_Ranking_2022 = pd.read_csv('Recruiting_Ranking_2022.csv')\n",
    "print(df_Recruiting_Ranking_2022.columns)"
   ]
  },
  {
   "cell_type": "code",
   "execution_count": 6,
   "id": "683f04ab",
   "metadata": {},
   "outputs": [
    {
     "name": "stdout",
     "output_type": "stream",
     "text": [
      "      Id  AthleteId RecruitType  Year  Ranking               Name  \\\n",
      "0  61569  4428988.0  HighSchool  2020      1.0       Bryan Bresee   \n",
      "1  61570  4685720.0  HighSchool  2020      2.0        Bryce Young   \n",
      "2  61571  4430800.0  HighSchool  2020      3.0     Julian Fleming   \n",
      "3  61572  4428992.0  HighSchool  2020      4.0        Kelee Ringo   \n",
      "4  61573  4428994.0  HighSchool  2020      5.0       Arik Gilbert   \n",
      "5  61574  4428986.0  HighSchool  2020      6.0       Justin Flowe   \n",
      "6  61576  4428996.0  HighSchool  2020      8.0       Jordan Burch   \n",
      "7  61577  4428991.0  HighSchool  2020      9.0  Paris Johnson Jr.   \n",
      "8  61578        NaN  HighSchool  2020     10.0      DJ Uiagalelei   \n",
      "9  61579  4428990.0  HighSchool  2020     11.0    Broderick Jones   \n",
      "\n",
      "              School     CommittedTo Position  Height  Weight  Stars  Rating  \\\n",
      "0           Damascus         Clemson       DT    77.0   290.0      5  0.9995   \n",
      "1          Mater Dei         Alabama     DUAL    71.0   183.0      5  0.9994   \n",
      "2  Southern Columbia      Ohio State       WR    74.0   199.0      5  0.9979   \n",
      "3            Saguaro         Georgia       CB    74.0   205.0      5  0.9976   \n",
      "4           Marietta             LSU       TE    77.0   253.0      5  0.9972   \n",
      "5             Upland          Oregon      ILB    74.0   225.0      5  0.9967   \n",
      "6     Hammond School  South Carolina       DT    77.0   275.0      5  0.9954   \n",
      "7          Princeton      Ohio State       OT    79.0   290.0      5  0.9953   \n",
      "8     St. John Bosco         Clemson      PRO    76.5   246.0      5  0.9949   \n",
      "9           Lithonia         Georgia       OT    77.0   298.0      5  0.9947   \n",
      "\n",
      "         City StateProvince Country  HometownInfo Latitude  \\\n",
      "0    Damascus            MD     USA              39.288438   \n",
      "1   Santa Ana            CA     USA              33.749495   \n",
      "2   Catawissa            PA     USA              40.954827   \n",
      "3  Scottsdale            AZ     USA              33.494219   \n",
      "4    Marietta            GA     USA              33.952847   \n",
      "5      Upland            CA     USA              34.097510   \n",
      "6    Columbia            SC     USA              34.000749   \n",
      "7  Cincinnati            OH     USA              39.101454   \n",
      "8  Bellflower            CA     USA              33.882570   \n",
      "9    Lithonia            GA     USA              33.712331   \n",
      "\n",
      "   HometownInfo Longitude  HometownInfo FipsCode  \n",
      "0              -77.203872                24031.0  \n",
      "1             -117.873221                 6059.0  \n",
      "2              -76.460987                42037.0  \n",
      "3             -111.926018                 4013.0  \n",
      "4              -84.549615                13067.0  \n",
      "5             -117.648388                 6071.0  \n",
      "6              -81.034331                45079.0  \n",
      "7              -84.512460                39061.0  \n",
      "8             -118.116768                 6037.0  \n",
      "9              -84.105194                13089.0  \n"
     ]
    }
   ],
   "source": [
    "#Combining recruiting ranking csv for years 2020-2023 ( there should be 4 people per rank)\n",
    "\n",
    "files_to_combine = [\n",
    "    'Recruiting_Ranking_2020.csv',\n",
    "    'Recruiting_Ranking_2021.csv',\n",
    "    'Recruiting_Ranking_2022.csv',\n",
    "]\n",
    "\n",
    "Recruiting_Ranking = []\n",
    "\n",
    "for file in files_to_combine:\n",
    "    df = pd.read_csv(file)\n",
    "    Recruiting_Ranking.append(df)\n",
    "\n",
    "Recruiting_Rank_Combined = pd.concat(Recruiting_Ranking, ignore_index=True)\n",
    "\n",
    "print(Recruiting_Rank_Combined.head(10))"
   ]
  }
 ],
 "metadata": {
  "kernelspec": {
   "display_name": ".venv (3.13.2)",
   "language": "python",
   "name": "python3"
  },
  "language_info": {
   "codemirror_mode": {
    "name": "ipython",
    "version": 3
   },
   "file_extension": ".py",
   "mimetype": "text/x-python",
   "name": "python",
   "nbconvert_exporter": "python",
   "pygments_lexer": "ipython3",
   "version": "3.13.2"
  }
 },
 "nbformat": 4,
 "nbformat_minor": 5
}
