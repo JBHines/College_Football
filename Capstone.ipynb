{
 "cells": [
  {
   "cell_type": "code",
   "execution_count": null,
   "id": "170ba744",
   "metadata": {},
   "outputs": [],
   "source": [
    "import pandas as pd\n",
    "import sqlite3\n",
    "import os\n"
   ]
  },
  {
   "cell_type": "markdown",
   "id": "2fafd76a",
   "metadata": {},
   "source": [
    "Checking column names and looking for join potential"
   ]
  },
  {
   "cell_type": "code",
   "execution_count": null,
   "id": "c1bb2ff4",
   "metadata": {},
   "outputs": [],
   "source": [
    "# Checking column names and looking for join potential\n",
    "df_Recruiting_Ranking_2022 = pd.read_csv('Recruiting_Ranking_2022.csv')\n",
    "print(df_Recruiting_Ranking_2022.columns)"
   ]
  },
  {
   "cell_type": "code",
   "execution_count": null,
   "id": "3dadd309",
   "metadata": {},
   "outputs": [],
   "source": [
    "#Combining Highschool recruiting ranking csv for years 202019-2023 ( there should be 4 people per rank)\n",
    "# Added more years to appease a friend and get specific data to compare"
   ]
  },
  {
   "cell_type": "code",
   "execution_count": null,
   "id": "683f04ab",
   "metadata": {},
   "outputs": [],
   "source": [
    "\n",
    "\n",
    "files_to_combine = [\n",
    "    'Recruiting_Ranking_2015.csv',\n",
    "    'Recruiting_Ranking_2016.csv',\n",
    "    'Recruiting_Ranking_2017.csv',\n",
    "    'Recruiting_Ranking_2018.csv',\n",
    "    'Recruiting_Ranking_2019.csv',\n",
    "    'Recruiting_Ranking_2020.csv',\n",
    "    'Recruiting_Ranking_2021.csv',\n",
    "    'Recruiting_Ranking_2022.csv',\n",
    "    'Recruiting_Ranking_2019.csv',\n",
    "]\n",
    "\n",
    "Recruiting_Ranking = []\n",
    "\n",
    "for file in files_to_combine:\n",
    "    College = pd.read_csv(file)\n",
    "    Recruiting_Ranking.append(College)\n",
    "\n",
    "Recruiting_Rank_Combined = pd.concat(Recruiting_Ranking, ignore_index=True)\n",
    "\n",
    "print(Recruiting_Rank_Combined.head(10))"
   ]
  },
  {
   "cell_type": "code",
   "execution_count": null,
   "id": "706ceeb4",
   "metadata": {},
   "outputs": [],
   "source": [
    "# Combining NFL Draft results from 2022-2025\n",
    "# Added more draft years to appease a friend and compare specific data\n",
    "files_to_combine_draft = [\n",
    "    'NFL_Draft_2019.csv',\n",
    "    'NFL_Draft_2020.csv',\n",
    "    'NFL_Draft_2021.csv',\n",
    "    'NFL_Draft_2022.csv',\n",
    "    'NFL_Draft_2023.csv',\n",
    "    'NFL_Draft_2024.csv',\n",
    "    'NFL_Draft_2025.csv'\n",
    "]\n",
    "NFL_Draft = []\n",
    "for file in files_to_combine_draft:\n",
    "    NFL = pd.read_csv(file)\n",
    "    NFL_Draft.append(NFL)\n",
    "\n",
    "NFL_Draft_Combined = pd.concat(NFL_Draft, ignore_index=True)\n",
    "\n",
    "print(NFL_Draft_Combined.head(10))"
   ]
  },
  {
   "cell_type": "markdown",
   "id": "ec01a674",
   "metadata": {},
   "source": [
    "Looking at results"
   ]
  },
  {
   "cell_type": "code",
   "execution_count": null,
   "id": "6644864d",
   "metadata": {},
   "outputs": [],
   "source": [
    "# looking at results\n",
    "print(NFL_Draft_Combined.head(15))"
   ]
  },
  {
   "cell_type": "code",
   "execution_count": null,
   "id": "e78ad311",
   "metadata": {},
   "outputs": [],
   "source": [
    "#Looking at shape to see if requirements were met\n",
    "NFL_Draft_Combined.shape"
   ]
  },
  {
   "cell_type": "code",
   "execution_count": null,
   "id": "5d6e69d5",
   "metadata": {},
   "outputs": [],
   "source": [
    "Recruiting_Rank_Combined.columns"
   ]
  },
  {
   "cell_type": "code",
   "execution_count": null,
   "id": "a66ed6a9",
   "metadata": {},
   "outputs": [],
   "source": [
    "# Renaming columns for consistency as this will be my key in SQL\n",
    "Recruiting_Rank_Combined.rename(columns={'AthleteId': 'CollegeAthleteId'}, inplace=True)"
   ]
  },
  {
   "cell_type": "code",
   "execution_count": null,
   "id": "81598db9",
   "metadata": {},
   "outputs": [],
   "source": [
    "Recruiting_Rank_Combined.columns"
   ]
  },
  {
   "cell_type": "code",
   "execution_count": null,
   "id": "d3fa57d7",
   "metadata": {},
   "outputs": [],
   "source": [
    "#deleted columns \n",
    "Recruiting_Rank_Combined.drop(['HometownInfo FipsCode', 'RecruitType'], axis=1, inplace=True)\n",
    "\n"
   ]
  },
  {
   "cell_type": "code",
   "execution_count": null,
   "id": "22d63ff2",
   "metadata": {},
   "outputs": [],
   "source": [
    "#chekcing my work to make sure the columns were deleted\n",
    "Recruiting_Rank_Combined.columns"
   ]
  },
  {
   "cell_type": "code",
   "execution_count": null,
   "id": "9e568c70",
   "metadata": {},
   "outputs": [],
   "source": [
    "Recruiting_Rank_Combined.shape"
   ]
  },
  {
   "cell_type": "code",
   "execution_count": null,
   "id": "0420c560",
   "metadata": {},
   "outputs": [],
   "source": [
    "Recruiting_Rank_Combined.isnull().sum()\n",
    "print(Recruiting_Rank_Combined.isnull().sum())"
   ]
  },
  {
   "cell_type": "code",
   "execution_count": null,
   "id": "b164eea3",
   "metadata": {},
   "outputs": [],
   "source": [
    "Recruiting_Rank_Combined[Recruiting_Rank_Combined[\"CommittedTo\"].isnull()]"
   ]
  },
  {
   "cell_type": "code",
   "execution_count": null,
   "id": "188f5f8f",
   "metadata": {},
   "outputs": [],
   "source": [
    "Recruiting_Rank_Combined[Recruiting_Rank_Combined[\"Name\"] == \"Zach Evans\"]"
   ]
  },
  {
   "cell_type": "code",
   "execution_count": null,
   "id": "490fe2ee",
   "metadata": {},
   "outputs": [],
   "source": [
    "NFL_Draft_Combined[NFL_Draft_Combined[\"Name\"] == \"Zach Evans\"]"
   ]
  },
  {
   "cell_type": "code",
   "execution_count": null,
   "id": "ab4b1ce9",
   "metadata": {},
   "outputs": [],
   "source": [
    "#checking for null values in CollegeAthleteId\n",
    "Recruiting_Rank_Combined[Recruiting_Rank_Combined[\"CollegeAthleteId\"].isnull()]"
   ]
  },
  {
   "cell_type": "code",
   "execution_count": null,
   "id": "6a188f13",
   "metadata": {},
   "outputs": [],
   "source": [
    "NFL_Draft_Combined[NFL_Draft_Combined[\"CollegeAthleteId\"].isnull()]"
   ]
  },
  {
   "cell_type": "code",
   "execution_count": null,
   "id": "7ce1ff00",
   "metadata": {},
   "outputs": [],
   "source": []
  },
  {
   "cell_type": "code",
   "execution_count": null,
   "id": "436aba42",
   "metadata": {},
   "outputs": [],
   "source": [
    "#Creating SQLite database and saving the combined Recruiting Ranking dataframe\n",
    "conn= sqlite3.connect('Football.db')\n",
    "\n",
    "Recruiting_Rank_Combined.to_sql(\"Recruiting_Ranking_Combined\", conn, if_exists='replace', index=False)\n",
    "NFL_Draft_Combined.to_sql(\"NFL_Draft_Combined\", conn, if_exists='replace', index=False)"
   ]
  },
  {
   "cell_type": "code",
   "execution_count": null,
   "id": "191f791d",
   "metadata": {},
   "outputs": [],
   "source": [
    "# Function to create a SQLite connection (1)\n",
    "def sql_conn():\n",
    "    return sqlite3.connect('Football.db')"
   ]
  },
  {
   "cell_type": "code",
   "execution_count": null,
   "id": "f64c0bd7",
   "metadata": {},
   "outputs": [],
   "source": [
    "with sql_conn() as conn:\n",
    "    df = pd.read_sql_query(\"\"\"\n",
    "        SELECT d.CollegeAthleteId\n",
    "        FROM Recruiting_Ranking_Combined r\n",
    "        RIGHT JOIN NFL_Draft_Combined d\n",
    "        ON d.CollegeAthleteId = r.CollegeAthleteId;\n",
    "    \"\"\", conn)\n",
    "\n",
    "df.columns\n"
   ]
  },
  {
   "cell_type": "code",
   "execution_count": null,
   "id": "e180f9b3",
   "metadata": {},
   "outputs": [],
   "source": [
    "# Added latitude and longitude to the change in rating dataframe and realized I needed to change the column names to avoid issues with spaces\n",
    "\n",
    "NFL_Draft_Combined= NFL_Draft_Combined.rename(columns={\n",
    "    'HometownInfo Latitude': 'HometownInfoLatitude',\n",
    "    'HometownInfo Longitude': 'HometownInfoLongitude'\n",
    "})\n",
    "NFL_Draft_Combined.columns"
   ]
  },
  {
   "cell_type": "code",
   "execution_count": null,
   "id": "5738e7d8",
   "metadata": {},
   "outputs": [],
   "source": [
    "    # There is something wrong here. I out of 1,000 lines that just over 50% can be joined \n",
    "\n",
    "with sql_conn() as conn:\n",
    "    change_in_rating_df = pd.read_sql_query(\"\"\"\n",
    "        SELECT d.CollegeAthleteId, \n",
    "               d.Name,\n",
    "               d.Position,\n",
    "               d.CollegeTeam AS College, \n",
    "               r.Rating AS HighSchoolRank,\n",
    "               d.NflTeam,\n",
    "               d.Year AS DraftYear,\n",
    "               d.Overall as Overall_Pick, \n",
    "               d.PreDraftGrade AS NFLPreDraftGrade,\n",
    "               (d.PreDraftGrade / 100 - r.Rating) AS ChangeInRating,\n",
    "               d.\"HometownInfo Latitude\" AS HometownInfoLatitude,\n",
    "               d.\"HometownInfo Longitude\" AS HometownInfoLongitude\n",
    "        FROM NFL_Draft_Combined d \n",
    "        LEFT JOIN Recruiting_Ranking_Combined r\n",
    "        ON d.CollegeAthleteId = r.CollegeAthleteId;\n",
    "    \"\"\", conn)\n",
    "\n",
    "print(change_in_rating_df.head(15))\n",
    "print(change_in_rating_df.count)\n",
    "\n"
   ]
  },
  {
   "cell_type": "code",
   "execution_count": null,
   "id": "9f64efc4",
   "metadata": {},
   "outputs": [],
   "source": [
    "\n",
    "Recruiting_Rank_Combined.shape\n"
   ]
  },
  {
   "cell_type": "code",
   "execution_count": null,
   "id": "29e22aed",
   "metadata": {},
   "outputs": [],
   "source": [
    "    # Checking for null vallues in NFL draft key column\n",
    "with sql_conn() as conn:\n",
    "    null_df = pd.read_sql_query(\"\"\"\n",
    "        SELECT CollegeAthleteId\n",
    "        FROM NFL_Draft_Combined n\n",
    "        WHERE n.CollegeAthleteId IS NULL;\n",
    "    \"\"\", conn)\n",
    "\n",
    "print(null_df)"
   ]
  },
  {
   "cell_type": "markdown",
   "id": "9da10be4",
   "metadata": {},
   "source": [
    "Changing column PreDraftGrade to be a percentage for finding the change in rating from high school to draft \n",
    "Note to self - College rating will be 4 decimal places, NFL predraft rating will be 2 decimal places"
   ]
  },
  {
   "cell_type": "code",
   "execution_count": null,
   "id": "5e16c7d2",
   "metadata": {},
   "outputs": [],
   "source": [
    "\n",
    "\n",
    "NFL_Draft_Combined['PreDraftGrade']= NFL_Draft_Combined['PreDraftGrade']/100\n",
    "\n",
    "print(NFL_Draft_Combined.head())"
   ]
  },
  {
   "cell_type": "markdown",
   "id": "21901fd5",
   "metadata": {},
   "source": [
    "Creating a new df with new column for the change in rating from high school to draft.\n",
    "Going to see if I can us this new df to see which postions have the most change in rating,"
   ]
  },
  {
   "cell_type": "code",
   "execution_count": null,
   "id": "898361ba",
   "metadata": {},
   "outputs": [],
   "source": [
    "\n",
    "\n",
    "with sql_conn() as conn:\n",
    "    change_in_rating_df = pd.read_sql_query(\"\"\"\n",
    "        SELECT d.CollegeAthleteId, \n",
    "               d.Name,\n",
    "               d.Position,\n",
    "               d.CollegeTeam AS College, \n",
    "               r.Rating AS HighSchoolRank,\n",
    "               d.NflTeam,\n",
    "               d.Year AS DraftYear,\n",
    "               d.[HometownInfo Latitude] AS HometownInfoLatitude,\n",
    "               d.[HometownInfo Longitude] AS HometownInfoLongitude,\n",
    "               d.Overall as Overall_Pick, \n",
    "               d.PreDraftGrade AS NFLPreDraftGrade,\n",
    "               (d.PreDraftGrade / 100 - r.Rating) AS ChangeInRating             \n",
    "        FROM NFL_Draft_Combined d \n",
    "        LEFT JOIN Recruiting_Ranking_Combined r\n",
    "        ON d.CollegeAthleteId = r.CollegeAthleteId;\n",
    "    \"\"\", conn)\n",
    "\n",
    "print(change_in_rating_df.head(15))"
   ]
  },
  {
   "cell_type": "code",
   "execution_count": null,
   "id": "77499ebb",
   "metadata": {},
   "outputs": [],
   "source": [
    "change_in_rating_df.drop_duplicates(subset=['CollegeAthleteId'], inplace=True)"
   ]
  },
  {
   "cell_type": "code",
   "execution_count": null,
   "id": "96e6b9e8",
   "metadata": {},
   "outputs": [],
   "source": [
    "# Saving the  to a new table in the SQLite Table\n",
    "with sql_conn() as conn:\n",
    "    change_in_rating_df.to_sql(\"Change_In_Rating\", conn, if_exists='replace', index=False)"
   ]
  },
  {
   "cell_type": "code",
   "execution_count": null,
   "id": "7993d15b",
   "metadata": {},
   "outputs": [],
   "source": [
    "with sql_conn() as conn:\n",
    "    df = pd.read_sql_query(\"\"\"\n",
    "        SELECT *\n",
    "        FROM Change_In_Rating\n",
    "        LIMIT 15;\n",
    "    \"\"\", conn)\n",
    "\n",
    "print(df)"
   ]
  },
  {
   "cell_type": "code",
   "execution_count": null,
   "id": "3fe3d0f3",
   "metadata": {},
   "outputs": [],
   "source": [
    "#Look at how many rows I have in the Change_In_Rating table as it should be the same as NFL Draft_Combined\n",
    "\n",
    "with sql_conn() as conn:\n",
    "    count_df = pd.read_sql_query(\"\"\"\n",
    "        SELECT Count(*) \n",
    "        FROM Change_In_Rating;\n",
    "    \"\"\", conn)\n",
    "print(count_df)"
   ]
  },
  {
   "cell_type": "code",
   "execution_count": null,
   "id": "58751d44",
   "metadata": {},
   "outputs": [],
   "source": [
    "print(change_in_rating_df)"
   ]
  },
  {
   "cell_type": "code",
   "execution_count": null,
   "id": "a24e4f60",
   "metadata": {},
   "outputs": [],
   "source": [
    "with sql_conn() as conn:\n",
    "    Recruiting_Rank_Combined_Csv = pd.read_sql_query(\"\"\"\n",
    "        SELECT *\n",
    "        FROM Recruiting_Ranking_Combined\n",
    "        \"\"\", conn)\n",
    "Recruiting_Rank_Combined_Csv.to_csv('Recruiting_Rank_Combined.csv', index=False)"
   ]
  },
  {
   "cell_type": "code",
   "execution_count": null,
   "id": "4900c122",
   "metadata": {},
   "outputs": [],
   "source": [
    "\n",
    "with sql_conn() as conn:\n",
    "    NFL_Draft= pd.read_sql_query(\"\"\"\n",
    "        SELECT *\n",
    "        FROM NFL_Draft_Combined\n",
    "        \"\"\", conn)\n",
    "NFL_Draft.to_csv('NFL_Draft.csv', index=False)"
   ]
  },
  {
   "cell_type": "markdown",
   "id": "6198355b",
   "metadata": {},
   "source": [
    "Making a function to return the information on a specific player that was drafted "
   ]
  },
  {
   "cell_type": "code",
   "execution_count": null,
   "id": "6e715f3c",
   "metadata": {},
   "outputs": [],
   "source": [
    "\n",
    "\n",
    "def get_player_info(Name):\n",
    "    player_info_query = f\"\"\"\n",
    "        SELECT *\n",
    "        FROM Change_In_Rating\n",
    "        WHERE LOWER(TRIM(Name)) \n",
    "        LIKE LOWER(?)\n",
    "    \"\"\"\n",
    "    params= f\"%{Name.strip()}%\"\n",
    "\n",
    "    with sql_conn() as conn:\n",
    "        return pd.read_sql_query(player_info_query, conn, params=(params,))"
   ]
  },
  {
   "cell_type": "code",
   "execution_count": null,
   "id": "79cd5351",
   "metadata": {},
   "outputs": [],
   "source": [
    "#Checking accuracy of function\n",
    "\n",
    "get_player_info('hardman')"
   ]
  },
  {
   "cell_type": "code",
   "execution_count": null,
   "id": "8b32410e",
   "metadata": {},
   "outputs": [],
   "source": [
    "# Need to add 2018 and possibly 2017 Recruiting data to fill in the gaps for the NFL Draft data\n",
    "# Unltimitely added 2015-2018 Recruiting data and 2019-2021 Draft data after speaking with a friend who wanted to see the data on a specific player"
   ]
  },
  {
   "cell_type": "markdown",
   "id": "7fa706b9",
   "metadata": {},
   "source": [
    "Creating a function to return who each NFL team drated "
   ]
  },
  {
   "cell_type": "code",
   "execution_count": null,
   "id": "bb422c77",
   "metadata": {},
   "outputs": [],
   "source": [
    "\n",
    "\n",
    "def get_NflTeam_Draft_results(NflTeam, DraftYear):\n",
    "    team_draft_info_query = f\"\"\"\n",
    "        SELECT *\n",
    "        FROM Change_IN_Rating\n",
    "        WHERE LOWER(TRIM(NflTeam))\n",
    "        LIKE LOWER(?)\n",
    "        \"\"\"\n",
    "    params = [f\"%{NflTeam.strip()}%\"]\n",
    "\n",
    "    if DraftYear:\n",
    "        team_draft_info_query += \" AND DraftYear = ?\"\n",
    "        params.append(DraftYear)\n",
    "\n",
    "    with sql_conn() as conn:\n",
    "        return pd.read_sql_query(team_draft_info_query, conn, params=params)"
   ]
  },
  {
   "cell_type": "code",
   "execution_count": null,
   "id": "c7da8bb9",
   "metadata": {},
   "outputs": [],
   "source": [
    "get_NflTeam_Draft_results('New Orleans', 2023\n",
    " )"
   ]
  },
  {
   "cell_type": "markdown",
   "id": "95e06462",
   "metadata": {},
   "source": [
    "Creating a function to search by College to see how many players were drafted from a specific college "
   ]
  },
  {
   "cell_type": "code",
   "execution_count": null,
   "id": "2f839c66",
   "metadata": {},
   "outputs": [],
   "source": [
    "\n",
    "\n",
    "def get_college_info(College,DraftYear):\n",
    "    college_info_query = f\"\"\"\n",
    "        SELECT *\n",
    "        FROM Change_IN_Rating\n",
    "        WHERE LOWER(TRIM(College))\n",
    "        LIKE LOWER(?)\n",
    "        \"\"\"\n",
    "    params = [f\"%{College.strip()}%\"]\n",
    "\n",
    "    if DraftYear:\n",
    "        college_info_query += \" AND DraftYear = ?\"\n",
    "        params.append(DraftYear)\n",
    "\n",
    "    with sql_conn() as conn:\n",
    "        return pd.read_sql_query(college_info_query, conn, params=params)"
   ]
  },
  {
   "cell_type": "code",
   "execution_count": null,
   "id": "fc8c11af",
   "metadata": {},
   "outputs": [],
   "source": [
    "get_college_info('Lsu', 2023)"
   ]
  },
  {
   "cell_type": "code",
   "execution_count": null,
   "id": "aa6d3a42",
   "metadata": {},
   "outputs": [],
   "source": [
    "# Get draft results by year (function 5)\n",
    "\n",
    "def get_draft_results_by_year(DraftYear):\n",
    "    draft_year_query = \"\"\"\n",
    "        SELECT *\n",
    "        FROM Change_IN_Rating\n",
    "        WHERE DraftYear = ?\n",
    "    \"\"\"\n",
    "    with sql_conn() as conn:\n",
    "        return pd.read_sql_query(draft_year_query, conn, params= (DraftYear,))"
   ]
  },
  {
   "cell_type": "code",
   "execution_count": null,
   "id": "a56c8f2a",
   "metadata": {},
   "outputs": [],
   "source": [
    "get_draft_results_by_year(2023)"
   ]
  },
  {
   "cell_type": "code",
   "execution_count": null,
   "id": "9416dea4",
   "metadata": {},
   "outputs": [],
   "source": [
    "get_draft_results_by_year(2024).tail(70)"
   ]
  },
  {
   "cell_type": "code",
   "execution_count": null,
   "id": "8e06ffac",
   "metadata": {},
   "outputs": [],
   "source": [
    "def inspect_null_drafts(DraftYear):\n",
    "    null_draftyear_values = \"\"\"\n",
    "        SELECT *\n",
    "        FROM Change_IN_Rating\n",
    "        WHERE DraftYear = ? AND (Name IS NULL OR CollegeAthleteId IS NULL)\n",
    "    \"\"\"\n",
    "    with sql_conn() as conn:\n",
    "        return pd.read_sql_query(null_draftyear_values, conn, params=(DraftYear,))"
   ]
  },
  {
   "cell_type": "code",
   "execution_count": null,
   "id": "14681f79",
   "metadata": {},
   "outputs": [],
   "source": [
    "inspect_null_drafts(2023)"
   ]
  },
  {
   "cell_type": "code",
   "execution_count": null,
   "id": "e1e63498",
   "metadata": {},
   "outputs": [],
   "source": [
    "#Creating a new file from Football.db because I found out that I cannot directly load a .db into my Tableau version\n",
    "\n",
    "with sql_conn() as conn:\n",
    "    Change_in_Rating= pd.read_sql_query(\"\"\"\n",
    "        SELECT *\n",
    "        FROM Change_In_Rating \"\"\", conn)\n",
    "\n",
    "Change_in_Rating.to_csv('Rating_Change.csv', index=False)"
   ]
  }
 ],
 "metadata": {
  "kernelspec": {
   "display_name": ".venv",
   "language": "python",
   "name": "python3"
  },
  "language_info": {
   "codemirror_mode": {
    "name": "ipython",
    "version": 3
   },
   "file_extension": ".py",
   "mimetype": "text/x-python",
   "name": "python",
   "nbconvert_exporter": "python",
   "pygments_lexer": "ipython3",
   "version": "3.13.2"
  }
 },
 "nbformat": 4,
 "nbformat_minor": 5
}
