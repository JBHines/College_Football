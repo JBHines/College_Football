{
 "cells": [
  {
   "cell_type": "code",
   "execution_count": 6,
   "id": "170ba744",
   "metadata": {},
   "outputs": [],
   "source": [
    "import pandas as pd\n",
    "import sqlite3\n",
    "import os"
   ]
  },
  {
   "cell_type": "code",
   "execution_count": 7,
   "id": "8dadf689",
   "metadata": {},
   "outputs": [
    {
     "name": "stdout",
     "output_type": "stream",
     "text": [
      "['CollegeAthleteId', 'NflAthleteId', 'CollegeId', 'CollegeTeam', 'CollegeConference', 'NflTeamId', 'NflTeam', 'Year', 'Overall', 'Round', 'Pick', 'Name', 'Position', 'Height', 'Weight', 'PreDraftRanking', 'PreDraftPositionRanking', 'PreDraftGrade', 'HometownInfo City', 'HometownInfo State', 'HometownInfo Country', 'HometownInfo Latitude', 'HometownInfo Longitude', 'HometownInfo CountyFips']\n"
     ]
    }
   ],
   "source": [
    "#Checking column names and looking for join potential\n",
    "df_NFL_Draft_2025 = pd.read_csv('NFL_Draft_2025.csv')\n",
    "print(df_NFL_Draft_2025.columns.tolist())\n"
   ]
  },
  {
   "cell_type": "code",
   "execution_count": 8,
   "id": "c1bb2ff4",
   "metadata": {},
   "outputs": [
    {
     "name": "stdout",
     "output_type": "stream",
     "text": [
      "Index(['Id', 'AthleteId', 'RecruitType', 'Year', 'Ranking', 'Name', 'School',\n",
      "       'CommittedTo', 'Position', 'Height', 'Weight', 'Stars', 'Rating',\n",
      "       'City', 'StateProvince', 'Country', 'HometownInfo Latitude',\n",
      "       'HometownInfo Longitude', 'HometownInfo FipsCode'],\n",
      "      dtype='object')\n"
     ]
    }
   ],
   "source": [
    "# Checking column names and looking for join potential\n",
    "df_Recruiting_Ranking_2022 = pd.read_csv('Recruiting_Ranking_2022.csv')\n",
    "print(df_Recruiting_Ranking_2022.columns)"
   ]
  },
  {
   "cell_type": "code",
   "execution_count": 3,
   "id": "683f04ab",
   "metadata": {},
   "outputs": [
    {
     "name": "stdout",
     "output_type": "stream",
     "text": [
      "      Id  AthleteId RecruitType  Year  Ranking               Name  \\\n",
      "0  61569  4428988.0  HighSchool  2020      1.0       Bryan Bresee   \n",
      "1  61570  4685720.0  HighSchool  2020      2.0        Bryce Young   \n",
      "2  61571  4430800.0  HighSchool  2020      3.0     Julian Fleming   \n",
      "3  61572  4428992.0  HighSchool  2020      4.0        Kelee Ringo   \n",
      "4  61573  4428994.0  HighSchool  2020      5.0       Arik Gilbert   \n",
      "5  61574  4428986.0  HighSchool  2020      6.0       Justin Flowe   \n",
      "6  61576  4428996.0  HighSchool  2020      8.0       Jordan Burch   \n",
      "7  61577  4428991.0  HighSchool  2020      9.0  Paris Johnson Jr.   \n",
      "8  61578        NaN  HighSchool  2020     10.0      DJ Uiagalelei   \n",
      "9  61579  4428990.0  HighSchool  2020     11.0    Broderick Jones   \n",
      "\n",
      "              School     CommittedTo Position  Height  Weight  Stars  Rating  \\\n",
      "0           Damascus         Clemson       DT    77.0   290.0      5  0.9995   \n",
      "1          Mater Dei         Alabama     DUAL    71.0   183.0      5  0.9994   \n",
      "2  Southern Columbia      Ohio State       WR    74.0   199.0      5  0.9979   \n",
      "3            Saguaro         Georgia       CB    74.0   205.0      5  0.9976   \n",
      "4           Marietta             LSU       TE    77.0   253.0      5  0.9972   \n",
      "5             Upland          Oregon      ILB    74.0   225.0      5  0.9967   \n",
      "6     Hammond School  South Carolina       DT    77.0   275.0      5  0.9954   \n",
      "7          Princeton      Ohio State       OT    79.0   290.0      5  0.9953   \n",
      "8     St. John Bosco         Clemson      PRO    76.5   246.0      5  0.9949   \n",
      "9           Lithonia         Georgia       OT    77.0   298.0      5  0.9947   \n",
      "\n",
      "         City StateProvince Country  HometownInfo Latitude  \\\n",
      "0    Damascus            MD     USA              39.288438   \n",
      "1   Santa Ana            CA     USA              33.749495   \n",
      "2   Catawissa            PA     USA              40.954827   \n",
      "3  Scottsdale            AZ     USA              33.494219   \n",
      "4    Marietta            GA     USA              33.952847   \n",
      "5      Upland            CA     USA              34.097510   \n",
      "6    Columbia            SC     USA              34.000749   \n",
      "7  Cincinnati            OH     USA              39.101454   \n",
      "8  Bellflower            CA     USA              33.882570   \n",
      "9    Lithonia            GA     USA              33.712331   \n",
      "\n",
      "   HometownInfo Longitude  HometownInfo FipsCode  \n",
      "0              -77.203872                24031.0  \n",
      "1             -117.873221                 6059.0  \n",
      "2              -76.460987                42037.0  \n",
      "3             -111.926018                 4013.0  \n",
      "4              -84.549615                13067.0  \n",
      "5             -117.648388                 6071.0  \n",
      "6              -81.034331                45079.0  \n",
      "7              -84.512460                39061.0  \n",
      "8             -118.116768                 6037.0  \n",
      "9              -84.105194                13089.0  \n"
     ]
    }
   ],
   "source": [
    "#Combining Highschool recruiting ranking csv for years 202019-2023 ( there should be 4 people per rank)\n",
    "\n",
    "files_to_combine = [\n",
    "    'Recruiting_Ranking_2020.csv',\n",
    "    'Recruiting_Ranking_2021.csv',\n",
    "    'Recruiting_Ranking_2022.csv',\n",
    "    'Recruiting_Ranking_2019.csv'\n",
    "]\n",
    "\n",
    "Recruiting_Ranking = []\n",
    "\n",
    "for file in files_to_combine:\n",
    "    College = pd.read_csv(file)\n",
    "    Recruiting_Ranking.append(College)\n",
    "\n",
    "Recruiting_Rank_Combined = pd.concat(Recruiting_Ranking, ignore_index=True)\n",
    "\n",
    "print(Recruiting_Rank_Combined.head(10))"
   ]
  },
  {
   "cell_type": "code",
   "execution_count": 5,
   "id": "706ceeb4",
   "metadata": {},
   "outputs": [
    {
     "name": "stdout",
     "output_type": "stream",
     "text": [
      "   CollegeAthleteId  NflAthleteId  CollegeId        CollegeTeam  \\\n",
      "0         4426349.0        105673         61            Georgia   \n",
      "1         4372099.0        105537        130           Michigan   \n",
      "2         4426434.0        105534         99                LSU   \n",
      "3         4427250.0        105558       2132         Cincinnati   \n",
      "4         4426326.0        105533       2483             Oregon   \n",
      "5         4427132.0        105589        152           NC State   \n",
      "6         4567134.0        105535        333            Alabama   \n",
      "7         4426502.0        105554         30                USC   \n",
      "8         4426376.0        105539        344  Mississippi State   \n",
      "9         4569618.0        105540        194         Ohio State   \n",
      "\n",
      "   CollegeConference  NflTeamId       NflTeam  Year  Overall  Round  ...  \\\n",
      "0                SEC         30  Jacksonville  2022        1      1  ...   \n",
      "1            Big Ten          8       Detroit  2022        2      1  ...   \n",
      "2                SEC         34       Houston  2022        3      1  ...   \n",
      "3  American Athletic         20      New York  2022        4      1  ...   \n",
      "4             Pac-12         19      New York  2022        5      1  ...   \n",
      "5                ACC         29      Carolina  2022        6      1  ...   \n",
      "6                SEC         19      New York  2022        7      1  ...   \n",
      "7             Pac-12          1       Atlanta  2022        8      1  ...   \n",
      "8                SEC         26       Seattle  2022        9      1  ...   \n",
      "9            Big Ten         20      New York  2022       10      1  ...   \n",
      "\n",
      "   Weight PreDraftRanking PreDraftPositionRanking  PreDraftGrade  \\\n",
      "0   272.0             2.0                     2.0           93.0   \n",
      "1   260.0             1.0                     1.0           94.0   \n",
      "2   190.0             8.0                     2.0           92.0   \n",
      "3   190.0             5.0                     1.0           93.0   \n",
      "4   254.0             7.0                     3.0           93.0   \n",
      "5   310.0             3.0                     1.0           93.0   \n",
      "6   337.0             4.0                     2.0           93.0   \n",
      "7   219.0            11.0                     2.0           92.0   \n",
      "8   307.0            10.0                     3.0           92.0   \n",
      "9   183.0             6.0                     1.0           93.0   \n",
      "\n",
      "   HometownInfo City  HometownInfo State  HometownInfo Country  \\\n",
      "0          Thomaston                  GA                   USA   \n",
      "1           Plymouth                  MI                   USA   \n",
      "2        Baton Rouge                  LA                   USA   \n",
      "3            Detroit                  MI                   USA   \n",
      "4        Los Angeles                  CA                   USA   \n",
      "5          Charlotte                  NC                   USA   \n",
      "6         Okeechobee                  FL                   USA   \n",
      "7           Moorpark                  CA                   USA   \n",
      "8             Laurel                  MS                   USA   \n",
      "9             Austin                  TX                   USA   \n",
      "\n",
      "   HometownInfo Latitude HometownInfo Longitude HometownInfo CountyFips  \n",
      "0              32.888188             -84.326585                 13293.0  \n",
      "1              45.006515             -93.466510                 27053.0  \n",
      "2              30.445960             -91.187380                 22033.0  \n",
      "3              42.331551             -83.046640                 26163.0  \n",
      "4              34.053691            -118.242767                  6037.0  \n",
      "5              35.227200             -80.843083                 37119.0  \n",
      "6              27.243696             -80.828749                 12093.0  \n",
      "7              34.285558            -118.882041                  6111.0  \n",
      "8              31.740960             -89.133820                 28067.0  \n",
      "9              30.271129             -97.743700                 48453.0  \n",
      "\n",
      "[10 rows x 24 columns]\n"
     ]
    }
   ],
   "source": [
    "# Combining NFL Draft results from 2022-2025\n",
    "\n",
    "files_to_combine_draft = [\n",
    "    'NFL_Draft_2022.csv',\n",
    "    'NFL_Draft_2023.csv',\n",
    "    'NFL_Draft_2024.csv',\n",
    "    'NFL_Draft_2025.csv'\n",
    "]\n",
    "NFL_Draft = []\n",
    "for file in files_to_combine_draft:\n",
    "    NFL = pd.read_csv(file)\n",
    "    NFL_Draft.append(NFL)\n",
    "\n",
    "NFL_Draft_Combined = pd.concat(NFL_Draft, ignore_index=True)\n",
    "\n",
    "print(NFL_Draft_Combined.head(10))"
   ]
  },
  {
   "cell_type": "code",
   "execution_count": null,
   "id": "4c2cbe40",
   "metadata": {},
   "outputs": [
    {
     "name": "stdout",
     "output_type": "stream",
     "text": [
      "Index(['CollegeAthleteId', 'NflAthleteId', 'CollegeId', 'CollegeTeam',\n",
      "       'CollegeConference', 'NflTeamId', 'NflTeam', 'Year', 'Overall', 'Round',\n",
      "       'Pick', 'Name', 'Position', 'Height', 'Weight', 'PreDraftRanking',\n",
      "       'PreDraftPositionRanking', 'PreDraftGrade', 'HometownInfo City',\n",
      "       'HometownInfo State', 'HometownInfo Country', 'HometownInfo Latitude',\n",
      "       'HometownInfo Longitude', 'HometownInfo CountyFips'],\n",
      "      dtype='object')\n"
     ]
    }
   ],
   "source": [
    "# Looking at results\n",
    "print(NFL_Draft_Combined.columns)"
   ]
  },
  {
   "cell_type": "code",
   "execution_count": 8,
   "id": "6644864d",
   "metadata": {},
   "outputs": [
    {
     "name": "stdout",
     "output_type": "stream",
     "text": [
      "    CollegeAthleteId  NflAthleteId  CollegeId        CollegeTeam  \\\n",
      "0          4426349.0        105673         61            Georgia   \n",
      "1          4372099.0        105537        130           Michigan   \n",
      "2          4426434.0        105534         99                LSU   \n",
      "3          4427250.0        105558       2132         Cincinnati   \n",
      "4          4426326.0        105533       2483             Oregon   \n",
      "5          4427132.0        105589        152           NC State   \n",
      "6          4567134.0        105535        333            Alabama   \n",
      "7          4426502.0        105554         30                USC   \n",
      "8          4426376.0        105539        344  Mississippi State   \n",
      "9          4569618.0        105540        194         Ohio State   \n",
      "10         4361370.0        105544        194         Ohio State   \n",
      "11         4426388.0        105553        333            Alabama   \n",
      "12         4381558.0        105548         61            Georgia   \n",
      "13         4575517.0        105536         87         Notre Dame   \n",
      "14         4426327.0        105577        245          Texas A&M   \n",
      "\n",
      "    CollegeConference  NflTeamId       NflTeam  Year  Overall  Round  ...  \\\n",
      "0                 SEC         30  Jacksonville  2022        1      1  ...   \n",
      "1             Big Ten          8       Detroit  2022        2      1  ...   \n",
      "2                 SEC         34       Houston  2022        3      1  ...   \n",
      "3   American Athletic         20      New York  2022        4      1  ...   \n",
      "4              Pac-12         19      New York  2022        5      1  ...   \n",
      "5                 ACC         29      Carolina  2022        6      1  ...   \n",
      "6                 SEC         19      New York  2022        7      1  ...   \n",
      "7              Pac-12          1       Atlanta  2022        8      1  ...   \n",
      "8                 SEC         26       Seattle  2022        9      1  ...   \n",
      "9             Big Ten         20      New York  2022       10      1  ...   \n",
      "10            Big Ten         18   New Orleans  2022       11      1  ...   \n",
      "11                SEC          8       Detroit  2022       12      1  ...   \n",
      "12                SEC         21  Philadelphia  2022       13      1  ...   \n",
      "13   FBS Independents         33     Baltimore  2022       14      1  ...   \n",
      "14                SEC         34       Houston  2022       15      1  ...   \n",
      "\n",
      "    Weight PreDraftRanking PreDraftPositionRanking  PreDraftGrade  \\\n",
      "0    272.0             2.0                     2.0           93.0   \n",
      "1    260.0             1.0                     1.0           94.0   \n",
      "2    190.0             8.0                     2.0           92.0   \n",
      "3    190.0             5.0                     1.0           93.0   \n",
      "4    254.0             7.0                     3.0           93.0   \n",
      "5    310.0             3.0                     1.0           93.0   \n",
      "6    337.0             4.0                     2.0           93.0   \n",
      "7    219.0            11.0                     2.0           92.0   \n",
      "8    307.0            10.0                     3.0           92.0   \n",
      "9    183.0             6.0                     1.0           93.0   \n",
      "10   187.0            15.0                     4.0           91.0   \n",
      "11   179.0            13.0                     3.0           92.0   \n",
      "12   341.0            12.0                     1.0           92.0   \n",
      "13   220.0             9.0                     1.0           92.0   \n",
      "14   323.0            26.0                     1.0           89.0   \n",
      "\n",
      "    HometownInfo City  HometownInfo State  HometownInfo Country  \\\n",
      "0           Thomaston                  GA                   USA   \n",
      "1            Plymouth                  MI                   USA   \n",
      "2         Baton Rouge                  LA                   USA   \n",
      "3             Detroit                  MI                   USA   \n",
      "4         Los Angeles                  CA                   USA   \n",
      "5           Charlotte                  NC                   USA   \n",
      "6          Okeechobee                  FL                   USA   \n",
      "7            Moorpark                  CA                   USA   \n",
      "8              Laurel                  MS                   USA   \n",
      "9              Austin                  TX                   USA   \n",
      "10         San Marcos                  CA                   USA   \n",
      "11        Saint Louis                  MO                   USA   \n",
      "12          Charlotte                  NC                   USA   \n",
      "13            Atlanta                  GA                   USA   \n",
      "14             Humble                  TX                   USA   \n",
      "\n",
      "    HometownInfo Latitude HometownInfo Longitude HometownInfo CountyFips  \n",
      "0               32.888188             -84.326585                 13293.0  \n",
      "1               45.006515             -93.466510                 27053.0  \n",
      "2               30.445960             -91.187380                 22033.0  \n",
      "3               42.331551             -83.046640                 26163.0  \n",
      "4               34.053691            -118.242767                  6037.0  \n",
      "5               35.227200             -80.843083                 37119.0  \n",
      "6               27.243696             -80.828749                 12093.0  \n",
      "7               34.285558            -118.882041                  6111.0  \n",
      "8               31.740960             -89.133820                 28067.0  \n",
      "9               30.271129             -97.743700                 48453.0  \n",
      "10              33.143372            -117.166145                  6073.0  \n",
      "11              38.626418             -90.199838                 29510.0  \n",
      "12              35.227200             -80.843083                 37119.0  \n",
      "13              33.749099             -84.390185                 13121.0  \n",
      "14              29.998831             -95.262155                 48201.0  \n",
      "\n",
      "[15 rows x 24 columns]\n"
     ]
    }
   ],
   "source": [
    "# looking at results\n",
    "print(NFL_Draft_Combined.head(15))"
   ]
  },
  {
   "cell_type": "code",
   "execution_count": null,
   "id": "e78ad311",
   "metadata": {},
   "outputs": [
    {
     "data": {
      "text/plain": [
       "(1035, 24)"
      ]
     },
     "execution_count": 9,
     "metadata": {},
     "output_type": "execute_result"
    }
   ],
   "source": [
    "#Looking at shape to see if requirements were met\n",
    "NFL_Draft_Combined.shape"
   ]
  },
  {
   "cell_type": "code",
   "execution_count": 12,
   "id": "5d6e69d5",
   "metadata": {},
   "outputs": [
    {
     "data": {
      "text/plain": [
       "Index(['Id', 'AthleteId', 'RecruitType', 'Year', 'Ranking', 'Name', 'School',\n",
       "       'CommittedTo', 'Position', 'Height', 'Weight', 'Stars', 'Rating',\n",
       "       'City', 'StateProvince', 'Country', 'HometownInfo Latitude',\n",
       "       'HometownInfo Longitude', 'HometownInfo FipsCode'],\n",
       "      dtype='object')"
      ]
     },
     "execution_count": 12,
     "metadata": {},
     "output_type": "execute_result"
    }
   ],
   "source": [
    "Recruiting_Rank_Combined.columns"
   ]
  },
  {
   "cell_type": "code",
   "execution_count": null,
   "id": "a66ed6a9",
   "metadata": {},
   "outputs": [],
   "source": [
    "# Renaming columns for consistency\n",
    "Recruiting_Rank_Combined.rename(columns={'AthleteId': 'CollegeAthleteId'}, inplace=True)"
   ]
  },
  {
   "cell_type": "code",
   "execution_count": 14,
   "id": "81598db9",
   "metadata": {},
   "outputs": [
    {
     "data": {
      "text/plain": [
       "Index(['Id', 'CollegeAthleteId', 'RecruitType', 'Year', 'Ranking', 'Name',\n",
       "       'School', 'CommittedTo', 'Position', 'Height', 'Weight', 'Stars',\n",
       "       'Rating', 'City', 'StateProvince', 'Country', 'HometownInfo Latitude',\n",
       "       'HometownInfo Longitude', 'HometownInfo FipsCode'],\n",
       "      dtype='object')"
      ]
     },
     "execution_count": 14,
     "metadata": {},
     "output_type": "execute_result"
    }
   ],
   "source": [
    "Recruiting_Rank_Combined.columns"
   ]
  },
  {
   "cell_type": "code",
   "execution_count": 18,
   "id": "d3fa57d7",
   "metadata": {},
   "outputs": [],
   "source": [
    "Recruiting_Rank_Combined.drop(['HometownInfo FipsCode', 'RecruitType'], axis=1, inplace=True)\n",
    "\n"
   ]
  },
  {
   "cell_type": "code",
   "execution_count": null,
   "id": "22d63ff2",
   "metadata": {},
   "outputs": [],
   "source": []
  }
 ],
 "metadata": {
  "kernelspec": {
   "display_name": ".venv (3.13.2)",
   "language": "python",
   "name": "python3"
  },
  "language_info": {
   "codemirror_mode": {
    "name": "ipython",
    "version": 3
   },
   "file_extension": ".py",
   "mimetype": "text/x-python",
   "name": "python",
   "nbconvert_exporter": "python",
   "pygments_lexer": "ipython3",
   "version": "3.13.2"
  }
 },
 "nbformat": 4,
 "nbformat_minor": 5
}
